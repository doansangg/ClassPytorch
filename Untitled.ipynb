{
 "cells": [
  {
   "cell_type": "code",
   "execution_count": 1,
   "metadata": {},
   "outputs": [],
   "source": [
    "k=open('folder_losstrain/ok.txt','r')\n",
    "all_file=k.readlines()"
   ]
  },
  {
   "cell_type": "code",
   "execution_count": 5,
   "metadata": {},
   "outputs": [],
   "source": [
    "list_loss=[]\n",
    "for p in all_file:\n",
    "    if len(p.split('train Loss')) == 2:\n",
    "        list_loss.append(p)"
   ]
  },
  {
   "cell_type": "code",
   "execution_count": 6,
   "metadata": {},
   "outputs": [
    {
     "data": {
      "text/plain": [
       "'train Loss: 1.7000 Acc: 0.4814634\\n'"
      ]
     },
     "execution_count": 6,
     "metadata": {},
     "output_type": "execute_result"
    }
   ],
   "source": [
    "list_loss[0]"
   ]
  },
  {
   "cell_type": "code",
   "execution_count": 8,
   "metadata": {},
   "outputs": [
    {
     "data": {
      "text/plain": [
       "'0.4814634'"
      ]
     },
     "execution_count": 8,
     "metadata": {},
     "output_type": "execute_result"
    }
   ],
   "source": [
    "list_loss[0].split('Acc: ')[1].split('\\n')[0]"
   ]
  },
  {
   "cell_type": "code",
   "execution_count": null,
   "metadata": {},
   "outputs": [],
   "source": []
  },
  {
   "cell_type": "code",
   "execution_count": 16,
   "metadata": {},
   "outputs": [],
   "source": [
    "list_three=[]\n",
    "for i,k in enumerate(list_loss):\n",
    "    list_three.append( [ i , float(k.split('train Loss: ')[1].split(' ')[0]) , float(k.split('Acc: ')[1].split('\\n')[0]) ])"
   ]
  },
  {
   "cell_type": "code",
   "execution_count": 19,
   "metadata": {},
   "outputs": [],
   "source": [
    "import pandas as pd\n",
    "a=pd.DataFrame(list_three,columns=['epoch','loss','acc'])"
   ]
  },
  {
   "cell_type": "code",
   "execution_count": 20,
   "metadata": {},
   "outputs": [
    {
     "data": {
      "text/html": [
       "<div>\n",
       "<style scoped>\n",
       "    .dataframe tbody tr th:only-of-type {\n",
       "        vertical-align: middle;\n",
       "    }\n",
       "\n",
       "    .dataframe tbody tr th {\n",
       "        vertical-align: top;\n",
       "    }\n",
       "\n",
       "    .dataframe thead th {\n",
       "        text-align: right;\n",
       "    }\n",
       "</style>\n",
       "<table border=\"1\" class=\"dataframe\">\n",
       "  <thead>\n",
       "    <tr style=\"text-align: right;\">\n",
       "      <th></th>\n",
       "      <th>epoch</th>\n",
       "      <th>loss</th>\n",
       "      <th>acc</th>\n",
       "    </tr>\n",
       "  </thead>\n",
       "  <tbody>\n",
       "    <tr>\n",
       "      <th>0</th>\n",
       "      <td>0</td>\n",
       "      <td>1.7000</td>\n",
       "      <td>0.481463</td>\n",
       "    </tr>\n",
       "    <tr>\n",
       "      <th>1</th>\n",
       "      <td>1</td>\n",
       "      <td>0.6422</td>\n",
       "      <td>0.899024</td>\n",
       "    </tr>\n",
       "    <tr>\n",
       "      <th>2</th>\n",
       "      <td>2</td>\n",
       "      <td>0.3311</td>\n",
       "      <td>0.937317</td>\n",
       "    </tr>\n",
       "    <tr>\n",
       "      <th>3</th>\n",
       "      <td>3</td>\n",
       "      <td>0.2242</td>\n",
       "      <td>0.953171</td>\n",
       "    </tr>\n",
       "    <tr>\n",
       "      <th>4</th>\n",
       "      <td>4</td>\n",
       "      <td>0.1688</td>\n",
       "      <td>0.962683</td>\n",
       "    </tr>\n",
       "    <tr>\n",
       "      <th>...</th>\n",
       "      <td>...</td>\n",
       "      <td>...</td>\n",
       "      <td>...</td>\n",
       "    </tr>\n",
       "    <tr>\n",
       "      <th>141</th>\n",
       "      <td>141</td>\n",
       "      <td>0.0834</td>\n",
       "      <td>0.985366</td>\n",
       "    </tr>\n",
       "    <tr>\n",
       "      <th>142</th>\n",
       "      <td>142</td>\n",
       "      <td>0.0857</td>\n",
       "      <td>0.982195</td>\n",
       "    </tr>\n",
       "    <tr>\n",
       "      <th>143</th>\n",
       "      <td>143</td>\n",
       "      <td>0.0844</td>\n",
       "      <td>0.984634</td>\n",
       "    </tr>\n",
       "    <tr>\n",
       "      <th>144</th>\n",
       "      <td>144</td>\n",
       "      <td>0.0824</td>\n",
       "      <td>0.984390</td>\n",
       "    </tr>\n",
       "    <tr>\n",
       "      <th>145</th>\n",
       "      <td>145</td>\n",
       "      <td>0.0831</td>\n",
       "      <td>0.984878</td>\n",
       "    </tr>\n",
       "  </tbody>\n",
       "</table>\n",
       "<p>146 rows × 3 columns</p>\n",
       "</div>"
      ],
      "text/plain": [
       "     epoch    loss       acc\n",
       "0        0  1.7000  0.481463\n",
       "1        1  0.6422  0.899024\n",
       "2        2  0.3311  0.937317\n",
       "3        3  0.2242  0.953171\n",
       "4        4  0.1688  0.962683\n",
       "..     ...     ...       ...\n",
       "141    141  0.0834  0.985366\n",
       "142    142  0.0857  0.982195\n",
       "143    143  0.0844  0.984634\n",
       "144    144  0.0824  0.984390\n",
       "145    145  0.0831  0.984878\n",
       "\n",
       "[146 rows x 3 columns]"
      ]
     },
     "execution_count": 20,
     "metadata": {},
     "output_type": "execute_result"
    }
   ],
   "source": [
    "a"
   ]
  },
  {
   "cell_type": "code",
   "execution_count": 32,
   "metadata": {},
   "outputs": [
    {
     "data": {
      "image/png": "[encoded data removed]",
      "text/plain": [
       "<Figure size 432x288 with 1 Axes>"
      ]
     },
     "metadata": {},
     "output_type": "display_data"
    }
   ],
   "source": [
    "import matplotlib.pyplot as plt\n",
    "lines = a.plot.line(x='epoch', y=['loss','acc'])\n",
    "plt.ylim(0, 2.0,0.01)\n",
    "plt.title('Res-net18 Normal')\n",
    "plt.ylabel('Training process')\n",
    "plt.xlabel('Epoch')\n",
    "plt.legend(['loss', 'acc'], loc='upper right')\n",
    "plt.savefig('eval_normal.png')\n",
    "plt.show()"
   ]
  },
  {
   "cell_type": "code",
   "execution_count": null,
   "metadata": {},
   "outputs": [],
   "source": []
  },
  {
   "cell_type": "code",
   "execution_count": 38,
   "metadata": {},
   "outputs": [
    {
     "data": {
      "image/png": "[encoded data removed]",
      "text/plain": [
       "<Figure size 432x288 with 1 Axes>"
      ]
     },
     "metadata": {},
     "output_type": "display_data"
    }
   ],
   "source": [
    "k=open('folder_losstrain/coly_augment.txt','r')\n",
    "all_file=k.readlines()\n",
    "list_loss=[]\n",
    "for p in all_file:\n",
    "    if len(p.split('train Loss')) == 2:\n",
    "        list_loss.append(p)\n",
    "list_three=[]\n",
    "for i,k in enumerate(list_loss):\n",
    "    list_three.append( [ i , float(k.split('train Loss: ')[1].split(' ')[0]) , float(k.split('Acc: ')[1].split('\\n')[0]) ])\n",
    "import pandas as pd\n",
    "a=pd.DataFrame(list_three,columns=['epoch','loss','acc'])\n",
    "import matplotlib.pyplot as plt\n",
    "lines = a.plot.line(x='epoch', y=['loss','acc'])\n",
    "plt.ylim(0, 2.0,0.01)\n",
    "plt.title('Res-net18 Autoaugmentation')\n",
    "plt.ylabel('Training process')\n",
    "plt.xlabel('Epoch')\n",
    "plt.legend(['loss', 'acc'], loc='upper right')\n",
    "plt.savefig('eval_autoaumentation.png')\n",
    "plt.show()"
   ]
  }
 ],
 "metadata": {
  "kernelspec": {
   "display_name": "Python 3",
   "language": "python",
   "name": "python3"
  },
  "language_info": {
   "codemirror_mode": {
    "name": "ipython",
    "version": 3
   },
   "file_extension": ".py",
   "mimetype": "text/x-python",
   "name": "python",
   "nbconvert_exporter": "python",
   "pygments_lexer": "ipython3",
   "version": "3.6.9"
  }
 },
 "nbformat": 4,
 "nbformat_minor": 4
}
